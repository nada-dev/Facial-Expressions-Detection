{
 "cells": [
  {
   "cell_type": "code",
   "execution_count": 3,
   "id": "21aae034",
   "metadata": {},
   "outputs": [],
   "source": [
    "from curses.ascii import isdigit\n",
    "from random import shuffle\n",
    "import re\n",
    "import numpy as np\n",
    "from sklearn.model_selection import train_test_split\n",
    "from sklearn.ensemble import RandomForestClassifier\n",
    "from sklearn import metrics\n",
    "from sklearn.metrics import classification_report\n",
    "import pickle"
   ]
  },
  {
   "cell_type": "code",
   "execution_count": 4,
   "id": "eb7be265",
   "metadata": {},
   "outputs": [],
   "source": [
    "target_names = ['angry', 'disgust', 'fear', 'happy', 'neutral', 'sad', 'surprise']"
   ]
  },
  {
   "cell_type": "code",
   "execution_count": 12,
   "id": "45dc7755",
   "metadata": {},
   "outputs": [],
   "source": [
    "def readXY(className, label):\n",
    "    fX = open(f'{className}.txt', 'r')\n",
    "    X = []\n",
    "    Y = []\n",
    "    \n",
    "    \n",
    "    for line in fX:\n",
    "        line = re.split(r'[ \\n]', line)\n",
    "        features = []\n",
    "        for i in range(1, 200):\n",
    "            if i in range(71, 95): continue\n",
    "            features.append(float(line[i]))\n",
    "        X.append(features)\n",
    "        Y.append(label)\n",
    "    \n",
    "    print('done ', className)\n",
    "    print(len(X), ' ', len(Y))\n",
    "    return X, Y"
   ]
  },
  {
   "cell_type": "code",
   "execution_count": 13,
   "id": "6cee697a",
   "metadata": {},
   "outputs": [],
   "source": [
    "def getXY():\n",
    "    X = []\n",
    "    Y = []\n",
    "    x, y = readXY('angry', 0)\n",
    "    X.extend(x)\n",
    "    Y.extend(y)\n",
    "    x, y = readXY('disgust', 1)\n",
    "    X.extend(x)\n",
    "    Y.extend(y)\n",
    "    x, y = readXY('fear', 2)\n",
    "    X.extend(x)\n",
    "    Y.extend(y)\n",
    "    x, y = readXY('happy', 3)\n",
    "    X.extend(x)\n",
    "    Y.extend(y)\n",
    "    x, y = readXY('neutral', 4)\n",
    "    X.extend(x)\n",
    "    Y.extend(y)\n",
    "    x, y = readXY('sad', 5)\n",
    "    X.extend(x)\n",
    "    Y.extend(y)\n",
    "    x, y = readXY('surprise', 6)\n",
    "    X.extend(x)\n",
    "    Y.extend(y)\n",
    "    \n",
    "    print()\n",
    "    print(len(X), ' ', len(Y))\n",
    "    return X, Y"
   ]
  },
  {
   "cell_type": "code",
   "execution_count": 14,
   "id": "df948095",
   "metadata": {},
   "outputs": [],
   "source": [
    "def stats(Y):\n",
    "    cnt = {}\n",
    "    for c in target_names:\n",
    "        cnt[c] = 0\n",
    "    for d in Y:\n",
    "        cnt[target_names[d]] += 1\n",
    "        \n",
    "    return cnt"
   ]
  },
  {
   "cell_type": "code",
   "execution_count": 15,
   "id": "58bb76a4",
   "metadata": {},
   "outputs": [],
   "source": [
    "def detect():\n",
    "    X, Y = getXY()\n",
    "    X_train, X_test, Y_train, Y_test = train_test_split(X, Y, shuffle=1, test_size=0.2)\n",
    "    print('X_train: ', len(X_train))\n",
    "    print('Y_train: ', len(Y_train))\n",
    "    print('X_test: ', len(X_test))\n",
    "    print('Y_test: ', len(Y_test))\n",
    "\n",
    "    print(stats(Y_train))\n",
    "    X_train = np.array(X_train)\n",
    "    Y_train = np.array(Y_train)\n",
    "    clf=RandomForestClassifier(n_estimators=550)\n",
    "\n",
    "    print(X_train)\n",
    "    print(Y_train)\n",
    "    clf.fit(X_train,Y_train)\n",
    "\n",
    "    Y_pred=clf.predict(X_test)\n",
    "\n",
    "    print(\"Accuracy:\",metrics.accuracy_score(Y_test, Y_pred))\n",
    "    print(classification_report(Y_test, Y_pred, target_names=target_names))\n",
    "\n",
    "    filename = 'facial_expressions_detector.sav'\n",
    "    pickle.dump(clf, open(filename, 'wb'))"
   ]
  },
  {
   "cell_type": "code",
   "execution_count": 16,
   "id": "57d824a2",
   "metadata": {
    "scrolled": true
   },
   "outputs": [
    {
     "name": "stdout",
     "output_type": "stream",
     "text": [
      "done  angry\n",
      "3219   3219\n",
      "done  disgust\n",
      "396   396\n",
      "done  fear\n",
      "2987   2987\n",
      "done  happy\n",
      "6903   6903\n",
      "done  neutral\n",
      "4485   4485\n",
      "done  sad\n",
      "3080   3080\n",
      "done  surprise\n",
      "2745   2745\n",
      "\n",
      "23815   23815\n",
      "X_train:  19052\n",
      "Y_train:  19052\n",
      "X_test:  4763\n",
      "Y_test:  4763\n",
      "{'angry': 2575, 'disgust': 330, 'fear': 2374, 'happy': 5576, 'neutral': 3558, 'sad': 2421, 'surprise': 2218}\n",
      "[[ 43.          92.          44.         ...  74.03316909  35.56236833\n",
      "   70.40446257]\n",
      " [ 45.          96.          48.         ...  84.80557109  54.9580706\n",
      "   40.23635831]\n",
      " [ 61.         107.          61.         ...  47.8912696   64.09986032\n",
      "   68.00887008]\n",
      " ...\n",
      " [ 33.         106.          35.         ... 108.20848447  29.19748605\n",
      "   42.59402948]\n",
      " [ 78.         106.          72.         ... 108.26288994  22.10164663\n",
      "   49.63546343]\n",
      " [ 67.          95.          69.         ...  40.74616356  68.90766049\n",
      "   70.34617594]]\n",
      "[4 5 2 ... 0 4 5]\n",
      "Accuracy: 0.5698089439428932\n",
      "              precision    recall  f1-score   support\n",
      "\n",
      "       angry       0.46      0.35      0.40       644\n",
      "     disgust       1.00      0.38      0.55        66\n",
      "        fear       0.60      0.17      0.27       613\n",
      "       happy       0.71      0.90      0.79      1327\n",
      "     neutral       0.43      0.77      0.55       927\n",
      "         sad       0.48      0.16      0.24       659\n",
      "    surprise       0.69      0.65      0.67       527\n",
      "\n",
      "    accuracy                           0.57      4763\n",
      "   macro avg       0.62      0.48      0.50      4763\n",
      "weighted avg       0.58      0.57      0.53      4763\n",
      "\n"
     ]
    }
   ],
   "source": [
    "detect()"
   ]
  },
  {
   "cell_type": "code",
   "execution_count": null,
   "id": "3b96af24",
   "metadata": {},
   "outputs": [],
   "source": []
  },
  {
   "cell_type": "code",
   "execution_count": null,
   "id": "c3462f0c",
   "metadata": {},
   "outputs": [],
   "source": []
  },
  {
   "cell_type": "code",
   "execution_count": null,
   "id": "cb1d8138",
   "metadata": {},
   "outputs": [],
   "source": []
  }
 ],
 "metadata": {
  "kernelspec": {
   "display_name": "Python 3",
   "language": "python",
   "name": "python3"
  },
  "language_info": {
   "codemirror_mode": {
    "name": "ipython",
    "version": 3
   },
   "file_extension": ".py",
   "mimetype": "text/x-python",
   "name": "python",
   "nbconvert_exporter": "python",
   "pygments_lexer": "ipython3",
   "version": "3.6.9"
  }
 },
 "nbformat": 4,
 "nbformat_minor": 5
}
